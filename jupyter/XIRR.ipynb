{
 "nbformat": 4,
 "nbformat_minor": 2,
 "metadata": {
  "language_info": {
   "name": "python",
   "codemirror_mode": {
    "name": "ipython",
    "version": 3
   },
   "version": "3.6.7"
  },
  "orig_nbformat": 2,
  "file_extension": ".py",
  "mimetype": "text/x-python",
  "name": "python",
  "npconvert_exporter": "python",
  "pygments_lexer": "ipython3",
  "version": 3
 },
 "cells": [
  {
   "cell_type": "code",
   "execution_count": 3,
   "metadata": {},
   "outputs": [
    {
     "name": "stdout",
     "output_type": "stream",
     "text": "[(datetime.date(2006, 1, 24), -39967), (datetime.date(2008, 2, 6), -19866), (datetime.date(2010, 10, 18), -245706), (datetime.date(2013, 9, 14), 1152142)]\nIRR for test data = 36.49%\n"
    }
   ],
   "source": [
    "'''\n",
    "A single function that calculates IRR using Newton's Method\n",
    "'''\n",
    "\n",
    "from datetime import date\n",
    "\n",
    "def xirr(transactions):\n",
    "\n",
    "    '''\n",
    "    Calculates the Internal Rate of Return (IRR) for an irregular series of cash flows (XIRR)\n",
    "    Takes a list of tuples [(date,cash-flow),(date,cash-flow),...]\n",
    "    Returns a rate of return as a percentage\n",
    "    '''\n",
    "\n",
    "    years = [(ta[0] - transactions[0][0]).days / 365. for ta in transactions]\n",
    "    residual = 1.0\n",
    "    step = 0.05\n",
    "    guess = 0.05\n",
    "    epsilon = 0.0001\n",
    "    limit = 10000\n",
    "    while abs(residual) > epsilon and limit > 0:\n",
    "        limit -= 1\n",
    "        residual = 0.0\n",
    "        for i, trans in enumerate(transactions):\n",
    "            residual += trans[1] / pow(guess, years[i])\n",
    "        if abs(residual) > epsilon:\n",
    "            if residual > 0:\n",
    "                guess += step\n",
    "            else:\n",
    "                guess -= step\n",
    "                step /= 2.0\n",
    "    return guess - 1\n",
    "\n",
    "tas = [(date(2006, 1, 24), -39967),\n",
    "       (date(2008, 2, 6), -19866),\n",
    "       (date(2010, 10, 18), 245706),\n",
    "       (date(2013, 9, 14), 52142)]\n",
    "\n",
    "if __name__ == '__main__':\n",
    "    print(tas,)\n",
    "    print(\"IRR for test data = {:.2%}\".format(xirr(tas)))"
   ]
  },
  {
   "cell_type": "code",
   "execution_count": null,
   "metadata": {},
   "outputs": [],
   "source": []
  }
 ]
}