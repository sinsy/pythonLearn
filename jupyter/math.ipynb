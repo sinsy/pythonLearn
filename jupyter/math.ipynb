{
 "nbformat": 4,
 "nbformat_minor": 2,
 "metadata": {
  "language_info": {
   "name": "python",
   "codemirror_mode": {
    "name": "ipython",
    "version": 3
   },
   "version": "3.6.7"
  },
  "orig_nbformat": 2,
  "file_extension": ".py",
  "mimetype": "text/x-python",
  "name": "python",
  "npconvert_exporter": "python",
  "pygments_lexer": "ipython3",
  "version": 3
 },
 "cells": [
  {
   "cell_type": "code",
   "execution_count": 11,
   "metadata": {},
   "outputs": [
    {
     "name": "stdout",
     "output_type": "stream",
     "text": "[6, 10, 2, 10, 2, 7, 1, 4, 2]\n数字1出现的频率为：0.1111111111111111\n数字2出现的频率为：0.3333333333333333\n数字3出现的频率为：0.0\n数字4出现的频率为：0.1111111111111111\n数字5出现的频率为：0.0\n数字6出现的频率为：0.1111111111111111\n数字7出现的频率为：0.1111111111111111\n数字8出现的频率为：0.0\n数字9出现的频率为：0.0\n数字10出现的频率为：0.2222222222222222\n"
    }
   ],
   "source": [
    "# TODO \n",
    "# 导入random函数库\n",
    "import random\n",
    "\n",
    "i = 1\n",
    "list = []\n",
    "\n",
    "while i<10 :\n",
    "    \n",
    "    # TODO\n",
    "    # 生成一个1到10的随机整数a\n",
    "    # 将a添加在列表 list 中\n",
    "    a = random.randint(1,10)\n",
    "    list.append(a)\n",
    "    \n",
    "    i += 1\n",
    " \n",
    "    # TODO\n",
    "    # 设置跳出循环的条件，使得列表 list 中添加的随机数个数为10\n",
    "    # 满足循环条件时跳出循环   \n",
    "print(list)    \n",
    "    \n",
    "for i in range(1,11):\n",
    "    print(\"数字{}出现的频率为：{}\".format(i, list.count(i)/len(list))) \n",
    "    # TODO\n",
    "    # 输出1到10每个数字出现的频率\n",
    "    # 格式：eg.数字1出现的频率为：0.1\n"
   ]
  },
  {
   "cell_type": "code",
   "execution_count": 9,
   "metadata": {},
   "outputs": [
    {
     "name": "stdout",
     "output_type": "stream",
     "text": "数字1出现的频率为：0.09960996099609962\n数字2出现的频率为：0.10441044104410441\n数字3出现的频率为：0.09910991099109911\n数字4出现的频率为：0.09820982098209821\n数字5出现的频率为：0.09360936093609361\n数字6出现的频率为：0.10261026102610261\n数字7出现的频率为：0.1006100610061006\n数字8出现的频率为：0.09930993099309932\n数字9出现的频率为：0.10181018101810181\n数字10出现的频率为：0.10071007100710071\n"
    }
   ],
   "source": [
    "# TODO\n",
    "# 复制并修改以上代码，生成10000个随机数\n",
    "# 输出1到10每个数字出现的频率\n",
    "import random\n",
    "\n",
    "i = 1\n",
    "list = []\n",
    "\n",
    "while i<10000 :\n",
    "    a = random.randint(1,10)\n",
    "    list.append(a)\n",
    "    i += 1\n",
    "for i in range(1,11):\n",
    "    print(\"数字{}出现的频率为：{}\".format(i, list.count(i)/len(list))) \n",
    "\n"
   ]
  },
  {
   "cell_type": "code",
   "execution_count": null,
   "metadata": {},
   "outputs": [],
   "source": []
  }
 ]
}