{
 "cells": [
  {
   "cell_type": "code",
   "execution_count": 1,
   "metadata": {},
   "outputs": [
    {
     "name": "stderr",
     "output_type": "stream",
     "text": "you must config OPTION_SERVERS for jqdata\nyou must config FUNDAMENTALS_SERVERS for jqdata\n"
    },
    {
     "ename": "NameError",
     "evalue": "name 'query' is not defined",
     "output_type": "error",
     "traceback": [
      "\u001b[1;31m---------------------------------------------------------------------------\u001b[0m",
      "\u001b[1;31mNameError\u001b[0m                                 Traceback (most recent call last)",
      "\u001b[1;32m<ipython-input-1-96c2bbd2c574>\u001b[0m in \u001b[0;36m<module>\u001b[1;34m\u001b[0m\n\u001b[0;32m      2\u001b[0m \u001b[1;32mfrom\u001b[0m \u001b[0mjqdata\u001b[0m \u001b[1;32mimport\u001b[0m \u001b[0mfinance\u001b[0m\u001b[1;33m\u001b[0m\u001b[1;33m\u001b[0m\u001b[0m\n\u001b[0;32m      3\u001b[0m \u001b[1;32mimport\u001b[0m \u001b[0mdatetime\u001b[0m\u001b[1;33m\u001b[0m\u001b[1;33m\u001b[0m\u001b[0m\n\u001b[1;32m----> 4\u001b[1;33m \u001b[0mq_index\u001b[0m\u001b[1;33m=\u001b[0m \u001b[0mquery\u001b[0m\u001b[1;33m(\u001b[0m\u001b[0mfinance\u001b[0m\u001b[1;33m.\u001b[0m\u001b[0mFUND_NET_VALUE\u001b[0m\u001b[1;33m)\u001b[0m\u001b[1;33m.\u001b[0m\u001b[0mfilter\u001b[0m\u001b[1;33m(\u001b[0m\u001b[0mfinance\u001b[0m\u001b[1;33m.\u001b[0m\u001b[0mFUND_NET_VALUE\u001b[0m\u001b[1;33m.\u001b[0m\u001b[0mcode\u001b[0m\u001b[1;33m==\u001b[0m\u001b[1;34m\"510300\"\u001b[0m\u001b[1;33m)\u001b[0m\u001b[1;33m.\u001b[0m\u001b[0morder_by\u001b[0m\u001b[1;33m(\u001b[0m\u001b[0mfinance\u001b[0m\u001b[1;33m.\u001b[0m\u001b[0mFUND_NET_VALUE\u001b[0m\u001b[1;33m.\u001b[0m\u001b[0mday\u001b[0m\u001b[1;33m.\u001b[0m\u001b[0mdesc\u001b[0m\u001b[1;33m(\u001b[0m\u001b[1;33m)\u001b[0m\u001b[1;33m)\u001b[0m\u001b[1;33m.\u001b[0m\u001b[0mlimit\u001b[0m\u001b[1;33m(\u001b[0m\u001b[1;36m3000\u001b[0m\u001b[1;33m)\u001b[0m\u001b[1;33m\u001b[0m\u001b[1;33m\u001b[0m\u001b[0m\n\u001b[0m\u001b[0;32m      5\u001b[0m \u001b[0mdf_index\u001b[0m \u001b[1;33m=\u001b[0m \u001b[0mfinance\u001b[0m\u001b[1;33m.\u001b[0m\u001b[0mrun_query\u001b[0m\u001b[1;33m(\u001b[0m\u001b[0mq_index\u001b[0m\u001b[1;33m)\u001b[0m\u001b[1;33m\u001b[0m\u001b[1;33m\u001b[0m\u001b[0m\n\u001b[0;32m      6\u001b[0m \u001b[0mq\u001b[0m\u001b[1;33m=\u001b[0m\u001b[0mquery\u001b[0m\u001b[1;33m(\u001b[0m\u001b[0mfinance\u001b[0m\u001b[1;33m.\u001b[0m\u001b[0mFUND_NET_VALUE\u001b[0m\u001b[1;33m)\u001b[0m\u001b[1;33m.\u001b[0m\u001b[0mfilter\u001b[0m\u001b[1;33m(\u001b[0m\u001b[0mfinance\u001b[0m\u001b[1;33m.\u001b[0m\u001b[0mFUND_NET_VALUE\u001b[0m\u001b[1;33m.\u001b[0m\u001b[0mcode\u001b[0m\u001b[1;33m==\u001b[0m\u001b[1;34m\"163407\"\u001b[0m\u001b[1;33m)\u001b[0m\u001b[1;33m.\u001b[0m\u001b[0morder_by\u001b[0m\u001b[1;33m(\u001b[0m\u001b[0mfinance\u001b[0m\u001b[1;33m.\u001b[0m\u001b[0mFUND_NET_VALUE\u001b[0m\u001b[1;33m.\u001b[0m\u001b[0mday\u001b[0m\u001b[1;33m.\u001b[0m\u001b[0mdesc\u001b[0m\u001b[1;33m(\u001b[0m\u001b[1;33m)\u001b[0m\u001b[1;33m)\u001b[0m\u001b[1;33m.\u001b[0m\u001b[0mlimit\u001b[0m\u001b[1;33m(\u001b[0m\u001b[0mlen\u001b[0m\u001b[1;33m(\u001b[0m\u001b[0mdf_index\u001b[0m\u001b[1;33m)\u001b[0m\u001b[1;33m)\u001b[0m\u001b[1;33m\u001b[0m\u001b[1;33m\u001b[0m\u001b[0m\n",
      "\u001b[1;31mNameError\u001b[0m: name 'query' is not defined"
     ]
    }
   ],
   "source": [
    "\n",
    "from jqdata import finance\n",
    "import datetime\n",
    "q_index= query(finance.FUND_NET_VALUE).filter(finance.FUND_NET_VALUE.code==\"510300\").order_by(finance.FUND_NET_VALUE.day.desc()).limit(3000)\n",
    "df_index = finance.run_query(q_index)\n",
    "q=query(finance.FUND_NET_VALUE).filter(finance.FUND_NET_VALUE.code==\"163407\").order_by(finance.FUND_NET_VALUE.day.desc()).limit(len(df_index))\n",
    "df_enhanced=finance.run_query(q)\n",
    "\n",
    "df_merge = df_index[['day','sum_value']]\n",
    "df_merge.columns = ['date','index_fund']\n",
    "df_merge['enhanced_fund'] = df_enhanced['sum_value']\n",
    "print(df_merge)"
   ]
  },
  {
   "cell_type": "code",
   "execution_count": 8,
   "metadata": {
    "scrolled": true
   },
   "outputs": [
    {
     "name": "stdout",
     "output_type": "stream",
     "text": [
      "            index_fund  enhanced_fund\n",
      "date                                 \n",
      "2012-05-04      1.0070         0.8521\n",
      "2012-05-11      0.9780         0.8453\n",
      "2012-05-18      0.9550         0.8393\n",
      "2012-05-25      0.9550         0.8516\n",
      "2012-05-28      0.9700         0.8611\n",
      "2012-05-29      0.9840         0.8569\n",
      "2012-05-30      0.9800         0.8539\n",
      "2012-05-31      0.9770         0.8534\n",
      "2012-06-01      0.9780         0.8308\n",
      "2012-06-04      0.9510         0.8315\n",
      "2012-06-05      0.9510         0.8319\n",
      "2012-06-06      0.9500         0.8274\n",
      "2012-06-07      0.9460         0.8208\n",
      "2012-06-08      0.9400         0.8316\n",
      "2012-06-11      0.9530         0.8257\n",
      "2012-06-12      0.9460         0.8384\n",
      "2012-06-13      0.9620         0.8322\n",
      "2012-06-14      0.9550         0.8356\n",
      "2012-06-15      0.9580         0.8400\n",
      "2012-06-18      0.9630         0.8359\n",
      "2012-06-19      0.9550         0.8347\n",
      "2012-06-20      0.9530         0.8224\n",
      "2012-06-21      0.9390         0.8065\n",
      "2012-06-25      0.9190         0.8075\n",
      "2012-06-26      0.9200         0.8047\n",
      "2012-06-27      0.9170         0.7994\n",
      "2012-06-28      0.9100         0.8094\n",
      "2012-06-29      0.9230         0.8094\n",
      "2012-06-30      0.9230         0.8084\n",
      "2012-07-02      0.9240         0.8104\n",
      "...                ...            ...\n",
      "2019-11-01      1.6117         2.0424\n",
      "2019-11-04      1.6213         2.0578\n",
      "2019-11-05      1.6306         2.0731\n",
      "2019-11-06      1.6238         2.0671\n",
      "2019-11-07      1.6264         2.0731\n",
      "2019-11-08      1.6193         2.0677\n",
      "2019-11-11      1.5929         2.0337\n",
      "2019-11-12      1.5931         2.0363\n",
      "2019-11-13      1.5917         2.0263\n",
      "2019-11-14      1.5939         2.0251\n",
      "2019-11-15      1.5830         2.0177\n",
      "2019-11-18      1.5946         2.0377\n",
      "2019-11-19      1.6094         2.0531\n",
      "2019-11-20      1.5946         2.0325\n",
      "2019-11-21      1.5877         2.0233\n",
      "2019-11-22      1.5728         2.0070\n",
      "2019-11-25      1.5834         2.0238\n",
      "2019-11-26      1.5884         2.0275\n",
      "2019-11-27      1.5823         2.0178\n",
      "2019-11-28      1.5773         2.0136\n",
      "2019-11-29      1.5646         2.0029\n",
      "2019-12-02      1.5673         2.0036\n",
      "2019-12-03      1.5730         2.0067\n",
      "2019-12-04      1.5725         2.0014\n",
      "2019-12-05      1.5835         2.0141\n",
      "2019-12-06      1.5906         2.0280\n",
      "2019-12-09      1.5879         2.0260\n",
      "2019-12-10      1.5900         2.0315\n",
      "2019-12-11      1.5911         2.0344\n",
      "2019-12-12      1.5868         2.0317\n",
      "\n",
      "[1849 rows x 2 columns]\n"
     ]
    }
   ],
   "source": [
    "df_merge = df_merge.sort_values(by='date')\n",
    "df_merge = df_merge.set_index('date')\n",
    "print(df_merge)"
   ]
  },
  {
   "cell_type": "code",
   "execution_count": 11,
   "metadata": {},
   "outputs": [],
   "source": [
    "#份额\n",
    "num_index = 0\n",
    "num_enhanced = 0\n",
    "#份额数组\n",
    "num_index_arr = []\n",
    "num_enhanced_arr = []\n",
    "#总收益\n",
    "tp_index = []\n",
    "tp_enhanced = []\n",
    "#费率\n",
    "ex_index = 0.0015\n",
    "#定投次数h和金额\n",
    "m=0\n",
    "mon = 100\n",
    "#定投数组\n",
    "buy_arr = []\n",
    "for i in range(len(df_merge)):\n",
    "    if i == 0:\n",
    "        m+=1\n",
    "        num_index += (1-ex_index)*100/df_merge['index_fund'].values[i] #沪深300 份额\n",
    "        num_enhanced += (1-ex_index)*100/df_merge['enhanced_fund'].values[i] #增强沪深300 份额\n",
    "        tp_index.append(num_index*df_merge['index_fund'].values[i]-m*mon)  #沪深300 收益数组添加收益\n",
    "        tp_enhanced.append(num_enhanced*df_merge['enhanced_fund'].values[i]-m*mon) #增强沪深300 收益数组添加收益\n",
    "        num_index_arr.append(num_index)        \n",
    "        num_enhanced_arr.append(num_enhanced)\n",
    "        #columns = [u'时间', u'定投金额', u'沪深300份额', u'沪深300基金净值', u'沪深300增强份额',u'沪深300净值',]\n",
    "        buy_arr.append([df_merge.index[i], m, num_index, df_merge['index_fund'].values[i], df_merge['enhanced_fund'].values[i], num_enhanced])\n",
    "        continue\n",
    "    elif df_merge.index[i].split('-')[1] !=df_merge.index[i-1].split('-')[1]:\n",
    "        m+=1\n",
    "        num_index += (1-ex_index)*100/df_merge['index_fund'].values[i]\n",
    "        num_enhanced += (1-ex_index)*100/df_merge['enhanced_fund'].values[i]\n",
    "        tp_index.append(num_index*df_merge['index_fund'].values[i]-m*mon)\n",
    "        tp_enhanced.append(num_enhanced*df_merge['enhanced_fund'].values[i]-m*mon)\n",
    "        num_index_arr.append(num_index)        \n",
    "        num_enhanced_arr.append(num_enhanced)\n",
    "        buy_arr.append([df_merge.index[i], m, num_index, df_merge['index_fund'].values[i], df_merge['enhanced_fund'].values[i], num_enhanced])\n",
    "        continue\n",
    "    else :\n",
    "        tp_index.append(num_index*df_merge['index_fund'].values[i]-m*mon)\n",
    "        tp_enhanced.append(num_enhanced*df_merge['enhanced_fund'].values[i]-m*mon)\n",
    "        num_index_arr.append(num_index)        \n",
    "        num_enhanced_arr.append(num_enhanced)\n",
    "df_merge['tp_index'] = tp_index\n",
    "df_merge['tp_enhanced'] = tp_enhanced\n"
   ]
  },
  {
   "cell_type": "code",
   "execution_count": 12,
   "metadata": {},
   "outputs": [
    {
     "name": "stdout",
     "output_type": "stream",
     "text": [
      "Index(['index_fund', 'enhanced_fund', 'tp_index', 'tp_enhanced'], dtype='object')\n",
      "Index(['index_fund', 'enhanced_fund', '定投沪深300ETF累计损益', '定投沪深300指数增强累计损益'], dtype='object')\n"
     ]
    }
   ],
   "source": [
    "print(df_merge.columns)\n",
    "#修改后面两列的名字\n",
    "df_merge.columns =['index_fund','enhanced_fund',u'定投沪深300ETF累计损益',u'定投沪深300指数增强累计损益']\n",
    "print(df_merge.columns)"
   ]
  },
  {
   "cell_type": "code",
   "execution_count": 13,
   "metadata": {
    "scrolled": true
   },
   "outputs": [],
   "source": [
    "df_merge['损益差'] = df_merge['定投沪深300指数增强累计损益']-df_merge['定投沪深300ETF累计损益']"
   ]
  },
  {
   "cell_type": "code",
   "execution_count": 60,
   "metadata": {
    "scrolled": true
   },
   "outputs": [
    {
     "name": "stdout",
     "output_type": "stream",
     "text": [
      "            定投沪深300ETF累计损益  定投沪深300指数增强累计损益          损益差\n",
      "date                                                    \n",
      "2012-05-04       -0.150000        -0.150000     0.000000\n",
      "2012-05-11       -3.025521        -0.946831     2.078690\n",
      "2012-05-18       -5.306107        -1.649918     3.656189\n",
      "2012-05-25       -5.306107        -0.208591     5.097517\n",
      "2012-05-28       -3.818769         0.904630     4.723398\n",
      "2012-05-29       -2.430586         0.412469     2.843055\n",
      "2012-05-30       -2.827210         0.060926     2.888135\n",
      "2012-05-31       -3.124677         0.002335     3.127013\n",
      "2012-06-01       -3.175521        -2.795957     0.379564\n",
      "2012-06-04       -8.609326        -2.629801     5.979525\n",
      "2012-06-05       -8.609326        -2.534854     6.074472\n",
      "2012-06-06       -8.810578        -3.603003     5.207575\n",
      "2012-06-07       -9.615586        -5.169622     4.445965\n",
      "2012-06-08      -10.823098        -2.606064     8.217034\n",
      "2012-06-11       -8.206822        -4.006526     4.200296\n",
      "2012-06-12       -9.615586        -0.991972     8.623614\n",
      "2012-06-13       -6.395554        -2.463644     3.931910\n",
      "2012-06-14       -7.804318        -1.656598     6.147720\n",
      "2012-06-15       -7.200562        -0.612186     6.588376\n",
      "2012-06-18       -6.194302        -1.585388     4.608914\n",
      "2012-06-19       -7.804318        -1.870228     5.934090\n",
      "2012-06-20       -8.206822        -4.789835     3.416987\n",
      "2012-06-21      -11.024350        -8.563962     2.460389\n",
      "2012-06-25      -15.049391        -8.326595     6.722795\n",
      "2012-06-26      -14.848139        -8.991221     5.856917\n",
      "2012-06-27      -15.451895       -10.249263     5.202631\n",
      "2012-06-28      -16.860659        -7.875599     8.985060\n",
      "2012-06-29      -14.244383        -7.875599     6.368784\n",
      "2012-06-30      -14.244383        -8.112965     6.131417\n",
      "2012-07-02      -14.193131        -7.788233     6.404898\n",
      "...                    ...              ...          ...\n",
      "2019-10-31     3115.311782      6602.697540  3487.385758\n",
      "2019-11-01     3303.723976      6835.932819  3532.208843\n",
      "2019-11-04     3377.606057      6956.092124  3578.486067\n",
      "2019-11-05     3449.179323      7075.471175  3626.291851\n",
      "2019-11-06     3396.846182      7028.655861  3631.809678\n",
      "2019-11-07     3416.855913      7075.471175  3658.615262\n",
      "2019-11-08     3362.213957      7033.337392  3671.123435\n",
      "2019-11-11     3159.038234      6768.050614  3609.012380\n",
      "2019-11-12     3160.577444      6788.337250  3627.759806\n",
      "2019-11-13     3149.802974      6710.311727  3560.508753\n",
      "2019-11-14     3166.734284      6700.948664  3534.214380\n",
      "2019-11-15     3082.847338      6643.209777  3560.362440\n",
      "2019-11-18     3172.121519      6799.260823  3627.139304\n",
      "2019-11-19     3286.023061      6919.420129  3633.397068\n",
      "2019-11-20     3172.121519      6758.687551  3586.566032\n",
      "2019-11-21     3119.018773      6686.904070  3567.885297\n",
      "2019-11-22     3004.347626      6559.722468  3555.374841\n",
      "2019-11-25     3085.925758      6690.805346  3604.879589\n",
      "2019-11-26     3124.406008      6719.674790  3595.268782\n",
      "2019-11-27     3077.460102      6643.990032  3566.529930\n",
      "2019-11-28     3038.979852      6611.219313  3572.239461\n",
      "2019-11-29     2941.240015      6527.732003  3586.491988\n",
      "2019-12-02     2961.869351      6533.043790  3571.174439\n",
      "2019-12-03     3006.099974      6557.386191  3551.286218\n",
      "2019-12-04     3002.220094      6515.768537  3513.548443\n",
      "2019-12-05     3087.577437      6615.493859  3527.916423\n",
      "2019-12-06     3142.671722      6724.642047  3581.970326\n",
      "2019-12-09     3121.720374      6708.937272  3587.216898\n",
      "2019-12-10     3138.015866      6752.125404  3614.109537\n",
      "2019-12-11     3146.551601      6774.897328  3628.345727\n",
      "\n",
      "[1848 rows x 3 columns]\n"
     ]
    },
    {
     "data": {
      "image/png": "[encoded data removed]",
      "text/plain": [
       "<Figure size 432x288 with 1 Axes>"
      ]
     },
     "metadata": {
      "needs_background": "light"
     },
     "output_type": "display_data"
    }
   ],
   "source": [
    "df_merge[['定投沪深300ETF累计损益','定投沪深300指数增强累计损益','损益差']].plot()\n",
    "print(df_merge[['定投沪深300ETF累计损益','定投沪深300指数增强累计损益','损益差']])"
   ]
  },
  {
   "cell_type": "code",
   "execution_count": 14,
   "metadata": {
    "scrolled": false
   },
   "outputs": [],
   "source": [
    "import time  # 引入time模块\n",
    "df_merge['num_index_arr'] = num_index_arr\n",
    "df_merge['num_enhanced_arr'] = num_enhanced_arr\n",
    "\n",
    "ticks = str(time.time())\n",
    "df_merge.to_csv('C:/data/' + ticks + '.csv', encoding='utf_8_sig')\n"
   ]
  },
  {
   "cell_type": "code",
   "execution_count": 18,
   "metadata": {},
   "outputs": [
    {
     "name": "stdout",
     "output_type": "stream",
     "text": [
      "[0.7361077583480031, 1.7356011948744614]\n"
     ]
    },
    {
     "data": {
      "text/html": [
       "<div>\n",
       "<style scoped>\n",
       "    .dataframe tbody tr th:only-of-type {\n",
       "        vertical-align: middle;\n",
       "    }\n",
       "\n",
       "    .dataframe tbody tr th {\n",
       "        vertical-align: top;\n",
       "    }\n",
       "\n",
       "    .dataframe thead th {\n",
       "        text-align: right;\n",
       "    }\n",
       "</style>\n",
       "<table border=\"1\" class=\"dataframe\">\n",
       "  <thead>\n",
       "    <tr style=\"text-align: right;\">\n",
       "      <th></th>\n",
       "      <th>开始时间</th>\n",
       "      <th>结束时间</th>\n",
       "      <th>月定投金额</th>\n",
       "      <th>总定投数</th>\n",
       "      <th>份额</th>\n",
       "      <th>基金净值</th>\n",
       "      <th>本金</th>\n",
       "      <th>持仓金额</th>\n",
       "      <th>年化收益率</th>\n",
       "    </tr>\n",
       "  </thead>\n",
       "  <tbody>\n",
       "    <tr>\n",
       "      <th>510300</th>\n",
       "      <td>2012-05-04</td>\n",
       "      <td>2019-12-12</td>\n",
       "      <td>100</td>\n",
       "      <td>92</td>\n",
       "      <td>7759.758407</td>\n",
       "      <td>1.5868</td>\n",
       "      <td>9200</td>\n",
       "      <td>12313.184640</td>\n",
       "      <td>0.736108</td>\n",
       "    </tr>\n",
       "    <tr>\n",
       "      <th>163407</th>\n",
       "      <td>2012-05-04</td>\n",
       "      <td>2019-12-12</td>\n",
       "      <td>100</td>\n",
       "      <td>92</td>\n",
       "      <td>7852.387597</td>\n",
       "      <td>2.0317</td>\n",
       "      <td>9200</td>\n",
       "      <td>15953.695881</td>\n",
       "      <td>1.735601</td>\n",
       "    </tr>\n",
       "  </tbody>\n",
       "</table>\n",
       "</div>"
      ],
      "text/plain": [
       "              开始时间        结束时间  月定投金额    ...       本金          持仓金额     年化收益率\n",
       "510300  2012-05-04  2019-12-12    100    ...     9200  12313.184640  0.736108\n",
       "163407  2012-05-04  2019-12-12    100    ...     9200  15953.695881  1.735601\n",
       "\n",
       "[2 rows x 9 columns]"
      ]
     },
     "execution_count": 18,
     "metadata": {},
     "output_type": "execute_result"
    }
   ],
   "source": [
    "# 收益数据\n",
    "import pandas as pd\n",
    "import numpy as np\n",
    "\n",
    "buy_cols = [u'时间', u'定投金额', u'沪深300份额', u'沪深300基金净值', u'沪深300增强份额',u'沪深300净值']\n",
    "df_buy = pd.DataFrame(data=buy_arr, columns=buy_cols)\n",
    "ticks = str(time.time())\n",
    "df_buy.to_csv('C:/data/收益' + ticks + '.csv', encoding='utf_8_sig')\n",
    "\n",
    "\n",
    "data = []\n",
    "data.append([ df_merge.index[0], df_merge.index[len(df_merge.index)-1], mon, m, num_index,df_merge.index_fund[len(df_merge.index)-1]])\n",
    "data.append([ df_merge.index[0], df_merge.index[len(df_merge.index)-1], mon, m, num_enhanced,df_merge.enhanced_fund[len(df_merge.index)-1]])\n",
    "columns = [u'开始时间', u'结束时间',u'月定投金额',u'总定投数', u'份额', u'基金净值']\n",
    "df_state = pd.DataFrame(data=data, index=['510300','163407'], columns=columns)\n",
    "df_state['本金'] = df_state['月定投金额']*df_state['总定投数']\n",
    "df_state['持仓金额'] = df_state['份额']*df_state['基金净值']\n",
    "#定投的数组\n",
    "monArr = np.array([mon]*m)\n",
    "#https://blog.csdn.net/huiguixian/article/details/90714331\n",
    "arr = []\n",
    "arr.append(np.append(monArr, df_state['持仓金额'][0]*-1))\n",
    "arr.append(np.append(monArr, df_state['持仓金额'][1]*-1))\n",
    "#年化收益率 采用IRR\n",
    "profit = []\n",
    "profit.append(pow(np.irr(arr[0])+1, m)-1)\n",
    "profit.append(pow(np.irr(arr[1])+1, m)-1)\n",
    "df_state['年化收益率'] = profit\n",
    "print(profit)\n",
    "df_state\n",
    "\n",
    "    \n"
   ]
  },
  {
   "cell_type": "code",
   "execution_count": 28,
   "metadata": {},
   "outputs": [
    {
     "name": "stdout",
     "output_type": "stream",
     "text": [
      "沪深300 = 7.56%\n",
      "沪深300增强 = 14.20%\n"
     ]
    }
   ],
   "source": [
    "from datetime import date\n",
    "#计算年华收益\n",
    "def xirr(transactions):\n",
    "\n",
    "    '''\n",
    "    Calculates the Internal Rate of Return (IRR) for an irregular series of cash flows (XIRR)\n",
    "    Takes a list of tuples [(date,cash-flow),(date,cash-flow),...]\n",
    "    Returns a rate of return as a percentage\n",
    "    '''\n",
    "\n",
    "    years = [(ta[0] - transactions[0][0]).days / 365. for ta in transactions]\n",
    "    residual = 1.0\n",
    "    step = 0.05\n",
    "    guess = 0.05\n",
    "    epsilon = 0.0001\n",
    "    limit = 10000\n",
    "    while abs(residual) > epsilon and limit > 0:\n",
    "        limit -= 1\n",
    "        residual = 0.0\n",
    "        for i, trans in enumerate(transactions):\n",
    "            residual += trans[1] / pow(guess, years[i])\n",
    "        if abs(residual) > epsilon:\n",
    "            if residual > 0:\n",
    "                guess += step\n",
    "            else:\n",
    "                guess -= step\n",
    "                step /= 2.0\n",
    "    return guess - 1\n",
    "tas_index = []\n",
    "tas_enhanced = []\n",
    "for i in range(len(df_buy)):\n",
    "    d = df_buy['时间'][i].split('-')\n",
    "    tas_index.append((date(int(d[0]), int(d[1]), int(d[2])),-100 ))\n",
    "    tas_enhanced.append((date(int(d[0]), int(d[1]), int(d[2])),-100 ))\n",
    "tas_index.append((date(2019, 12,13), df_state['持仓金额'][0])) \n",
    "tas_enhanced.append((date(2019, 12,13), df_state['持仓金额'][1])) \n",
    "print(\"沪深300 = {:.2%}\".format(xirr(tas_index)))\n",
    "print(\"沪深300增强 = {:.2%}\".format(xirr(tas_enhanced)))"
   ]
  },
  {
   "cell_type": "code",
   "execution_count": null,
   "metadata": {},
   "outputs": [],
   "source": []
  }
 ],
 "metadata": {
  "kernelspec": {
   "display_name": "Python 3",
   "language": "python",
   "name": "python3"
  },
  "language_info": {
   "codemirror_mode": {
    "name": "ipython",
    "version": 3
   },
   "file_extension": ".py",
   "mimetype": "text/x-python",
   "name": "python",
   "nbconvert_exporter": "python",
   "pygments_lexer": "ipython3",
   "version": "3.6.7"
  },
  "toc": {
   "base_numbering": 1,
   "nav_menu": {},
   "number_sections": false,
   "sideBar": true,
   "skip_h1_title": false,
   "title_cell": "MarkDown菜单",
   "title_sidebar": "Contents",
   "toc_cell": false,
   "toc_position": {},
   "toc_section_display": true,
   "toc_window_display": false
  }
 },
 "nbformat": 4,
 "nbformat_minor": 2
}