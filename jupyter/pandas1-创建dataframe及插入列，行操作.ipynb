{
 "nbformat": 4,
 "nbformat_minor": 2,
 "metadata": {
  "language_info": {
   "name": "python",
   "codemirror_mode": {
    "name": "ipython",
    "version": 3
   },
   "version": "3.6.7"
  },
  "orig_nbformat": 2,
  "file_extension": ".py",
  "mimetype": "text/x-python",
  "name": "python",
  "npconvert_exporter": "python",
  "pygments_lexer": "ipython3",
  "version": 3
 },
 "cells": [
  {
   "cell_type": "code",
   "execution_count": 2,
   "metadata": {},
   "outputs": [],
   "source": [
    "import numpy as np\n",
    "import pandas as pd\n",
    "import random    #其中有用到random函数，所以导入"
   ]
  },
  {
   "cell_type": "code",
   "execution_count": 5,
   "metadata": {},
   "outputs": [
    {
     "data": {
      "text/html": "<div>\n<style scoped>\n    .dataframe tbody tr th:only-of-type {\n        vertical-align: middle;\n    }\n\n    .dataframe tbody tr th {\n        vertical-align: top;\n    }\n\n    .dataframe thead th {\n        text-align: right;\n    }\n</style>\n<table border=\"1\" class=\"dataframe\">\n  <thead>\n    <tr style=\"text-align: right;\">\n      <th></th>\n      <th>0</th>\n      <th>1</th>\n      <th>2</th>\n      <th>3</th>\n      <th>4</th>\n    </tr>\n  </thead>\n  <tbody>\n    <tr>\n      <th>0</th>\n      <td>-0.555868</td>\n      <td>0.781610</td>\n      <td>0.577834</td>\n      <td>-0.308002</td>\n      <td>-1.151356</td>\n    </tr>\n    <tr>\n      <th>1</th>\n      <td>-0.165637</td>\n      <td>-3.237746</td>\n      <td>0.152595</td>\n      <td>1.754017</td>\n      <td>-2.015185</td>\n    </tr>\n    <tr>\n      <th>2</th>\n      <td>1.438123</td>\n      <td>0.225494</td>\n      <td>-1.318895</td>\n      <td>-0.694138</td>\n      <td>-0.706536</td>\n    </tr>\n    <tr>\n      <th>3</th>\n      <td>1.439912</td>\n      <td>0.325431</td>\n      <td>0.940528</td>\n      <td>-2.782754</td>\n      <td>2.061421</td>\n    </tr>\n    <tr>\n      <th>4</th>\n      <td>-0.465831</td>\n      <td>-0.522863</td>\n      <td>0.857087</td>\n      <td>0.110369</td>\n      <td>-0.564318</td>\n    </tr>\n    <tr>\n      <th>5</th>\n      <td>0.636004</td>\n      <td>-0.686870</td>\n      <td>-0.762756</td>\n      <td>0.415244</td>\n      <td>0.246742</td>\n    </tr>\n    <tr>\n      <th>6</th>\n      <td>-0.633789</td>\n      <td>-0.528645</td>\n      <td>0.938498</td>\n      <td>0.487574</td>\n      <td>-1.575568</td>\n    </tr>\n    <tr>\n      <th>7</th>\n      <td>-0.200240</td>\n      <td>-1.214496</td>\n      <td>-0.980306</td>\n      <td>0.322606</td>\n      <td>0.087332</td>\n    </tr>\n  </tbody>\n</table>\n</div>",
      "text/plain": "          0         1         2         3         4\n0 -0.555868  0.781610  0.577834 -0.308002 -1.151356\n1 -0.165637 -3.237746  0.152595  1.754017 -2.015185\n2  1.438123  0.225494 -1.318895 -0.694138 -0.706536\n3  1.439912  0.325431  0.940528 -2.782754  2.061421\n4 -0.465831 -0.522863  0.857087  0.110369 -0.564318\n5  0.636004 -0.686870 -0.762756  0.415244  0.246742\n6 -0.633789 -0.528645  0.938498  0.487574 -1.575568\n7 -0.200240 -1.214496 -0.980306  0.322606  0.087332"
     },
     "execution_count": 5,
     "metadata": {},
     "output_type": "execute_result"
    }
   ],
   "source": [
    "# 利用randn随机创建dataframe\n",
    "df = pd.DataFrame(np.random.randn(8,5))\n",
    "df"
   ]
  },
  {
   "cell_type": "code",
   "execution_count": 6,
   "metadata": {},
   "outputs": [
    {
     "data": {
      "text/html": "<div>\n<style scoped>\n    .dataframe tbody tr th:only-of-type {\n        vertical-align: middle;\n    }\n\n    .dataframe tbody tr th {\n        vertical-align: top;\n    }\n\n    .dataframe thead th {\n        text-align: right;\n    }\n</style>\n<table border=\"1\" class=\"dataframe\">\n  <thead>\n    <tr style=\"text-align: right;\">\n      <th></th>\n      <th>BoolCol</th>\n      <th>attr</th>\n      <th>BoolC</th>\n      <th>att</th>\n      <th>Bool</th>\n    </tr>\n  </thead>\n  <tbody>\n    <tr>\n      <th>0</th>\n      <td>1</td>\n      <td>22</td>\n      <td>1</td>\n      <td>22</td>\n      <td>1</td>\n    </tr>\n    <tr>\n      <th>1</th>\n      <td>2</td>\n      <td>33</td>\n      <td>2</td>\n      <td>33</td>\n      <td>2</td>\n    </tr>\n    <tr>\n      <th>2</th>\n      <td>3</td>\n      <td>22</td>\n      <td>3</td>\n      <td>22</td>\n      <td>3</td>\n    </tr>\n    <tr>\n      <th>3</th>\n      <td>3</td>\n      <td>44</td>\n      <td>3</td>\n      <td>44</td>\n      <td>3</td>\n    </tr>\n    <tr>\n      <th>4</th>\n      <td>4</td>\n      <td>66</td>\n      <td>4</td>\n      <td>66</td>\n      <td>4</td>\n    </tr>\n  </tbody>\n</table>\n</div>",
      "text/plain": "   BoolCol  attr  BoolC  att  Bool\n0        1    22      1   22     1\n1        2    33      2   33     2\n2        3    22      3   22     3\n3        3    44      3   44     3\n4        4    66      4   66     4"
     },
     "execution_count": 6,
     "metadata": {},
     "output_type": "execute_result"
    }
   ],
   "source": [
    "# 用字典dict来生成一个dataframe\n",
    "data = {'BoolCol': [1, 2, 3, 3, 4],\n",
    "        'attr': [22, 33, 22, 44, 66],\n",
    "        'BoolC': [1, 2, 3, 3, 4],\n",
    "        'att': [22, 33, 22, 44, 66],\n",
    "        'Bool': [1, 2, 3, 3, 4]\n",
    "        }\n",
    "df = pd.DataFrame(data)\n",
    "df"
   ]
  },
  {
   "cell_type": "code",
   "execution_count": 7,
   "metadata": {},
   "outputs": [
    {
     "data": {
      "text/html": "<div>\n<style scoped>\n    .dataframe tbody tr th:only-of-type {\n        vertical-align: middle;\n    }\n\n    .dataframe tbody tr th {\n        vertical-align: top;\n    }\n\n    .dataframe thead th {\n        text-align: right;\n    }\n</style>\n<table border=\"1\" class=\"dataframe\">\n  <thead>\n    <tr style=\"text-align: right;\">\n      <th></th>\n      <th>BoolCol</th>\n      <th>attr</th>\n      <th>BoolC</th>\n      <th>att</th>\n      <th>Bool</th>\n    </tr>\n  </thead>\n  <tbody>\n    <tr>\n      <th>10</th>\n      <td>1</td>\n      <td>22</td>\n      <td>1</td>\n      <td>22</td>\n      <td>1</td>\n    </tr>\n    <tr>\n      <th>20</th>\n      <td>2</td>\n      <td>33</td>\n      <td>2</td>\n      <td>33</td>\n      <td>2</td>\n    </tr>\n    <tr>\n      <th>30</th>\n      <td>3</td>\n      <td>22</td>\n      <td>3</td>\n      <td>22</td>\n      <td>3</td>\n    </tr>\n    <tr>\n      <th>40</th>\n      <td>3</td>\n      <td>44</td>\n      <td>3</td>\n      <td>44</td>\n      <td>3</td>\n    </tr>\n    <tr>\n      <th>50</th>\n      <td>4</td>\n      <td>66</td>\n      <td>4</td>\n      <td>66</td>\n      <td>4</td>\n    </tr>\n  </tbody>\n</table>\n</div>",
      "text/plain": "    BoolCol  attr  BoolC  att  Bool\n10        1    22      1   22     1\n20        2    33      2   33     2\n30        3    22      3   22     3\n40        3    44      3   44     3\n50        4    66      4   66     4"
     },
     "execution_count": 7,
     "metadata": {},
     "output_type": "execute_result"
    }
   ],
   "source": [
    "# 自定义索引的dataframe\n",
    "df = pd.DataFrame(data,index=[10,20,30,40,50])\n",
    "df"
   ]
  },
  {
   "cell_type": "code",
   "execution_count": 9,
   "metadata": {},
   "outputs": [
    {
     "data": {
      "text/html": "<div>\n<style scoped>\n    .dataframe tbody tr th:only-of-type {\n        vertical-align: middle;\n    }\n\n    .dataframe tbody tr th {\n        vertical-align: top;\n    }\n\n    .dataframe thead th {\n        text-align: right;\n    }\n</style>\n<table border=\"1\" class=\"dataframe\">\n  <thead>\n    <tr style=\"text-align: right;\">\n      <th></th>\n      <th>BoolCol</th>\n      <th>attr</th>\n      <th>BoolC</th>\n      <th>Bool</th>\n    </tr>\n    <tr>\n      <th>att</th>\n      <th></th>\n      <th></th>\n      <th></th>\n      <th></th>\n    </tr>\n  </thead>\n  <tbody>\n    <tr>\n      <th>22</th>\n      <td>1</td>\n      <td>22</td>\n      <td>1</td>\n      <td>1</td>\n    </tr>\n    <tr>\n      <th>33</th>\n      <td>2</td>\n      <td>33</td>\n      <td>2</td>\n      <td>2</td>\n    </tr>\n    <tr>\n      <th>22</th>\n      <td>3</td>\n      <td>22</td>\n      <td>3</td>\n      <td>3</td>\n    </tr>\n    <tr>\n      <th>44</th>\n      <td>3</td>\n      <td>44</td>\n      <td>3</td>\n      <td>3</td>\n    </tr>\n    <tr>\n      <th>66</th>\n      <td>4</td>\n      <td>66</td>\n      <td>4</td>\n      <td>4</td>\n    </tr>\n  </tbody>\n</table>\n</div>",
      "text/plain": "     BoolCol  attr  BoolC  Bool\natt                            \n22         1    22      1     1\n33         2    33      2     2\n22         3    22      3     3\n44         3    44      3     3\n66         4    66      4     4"
     },
     "execution_count": 9,
     "metadata": {},
     "output_type": "execute_result"
    }
   ],
   "source": [
    "#以某一列为索引，该列必须值唯一，不能重复\n",
    "df.set_index('att') "
   ]
  },
  {
   "cell_type": "code",
   "execution_count": null,
   "metadata": {},
   "outputs": [],
   "source": []
  }
 ]
}